{
  "nbformat": 4,
  "nbformat_minor": 0,
  "metadata": {
    "kernelspec": {
      "display_name": "Python 3",
      "language": "python",
      "name": "python3"
    },
    "language_info": {
      "codemirror_mode": {
        "name": "ipython",
        "version": 3
      },
      "file_extension": ".py",
      "mimetype": "text/x-python",
      "name": "python",
      "nbconvert_exporter": "python",
      "pygments_lexer": "ipython3",
      "version": "3.6.7"
    },
    "colab": {
      "name": "CNN Demo.ipynb",
      "version": "0.3.2",
      "provenance": [],
      "include_colab_link": true
    }
  },
  "cells": [
    {
      "cell_type": "markdown",
      "metadata": {
        "id": "view-in-github",
        "colab_type": "text"
      },
      "source": [
        "<a href=\"https://colab.research.google.com/github/mastermind2000/My-Project/blob/master/CNN_Demo.ipynb\" target=\"_parent\"><img src=\"https://colab.research.google.com/assets/colab-badge.svg\" alt=\"Open In Colab\"/></a>"
      ]
    },
    {
      "cell_type": "markdown",
      "metadata": {
        "id": "IhrzGb86EIqV",
        "colab_type": "text"
      },
      "source": [
        "### CNN for Image Recognition\n",
        "\n",
        "This demo gives a walkthrough of how to use a CNN using Keras, tested on the MNIST dataset."
      ]
    },
    {
      "cell_type": "code",
      "metadata": {
        "id": "HhKrL9MHEIqY",
        "colab_type": "code",
        "colab": {}
      },
      "source": [
        "import numpy as np\n",
        "import matplotlib.pyplot as plt\n",
        "\n",
        "import warnings\n",
        "warnings.filterwarnings('ignore')\n",
        "\n",
        "from keras.datasets import mnist\n",
        "from keras.utils import np_utils\n",
        "from keras.models import Sequential\n",
        "from keras.layers import Conv2D, MaxPool2D, Flatten, Dense, Dropout"
      ],
      "execution_count": 0,
      "outputs": []
    },
    {
      "cell_type": "markdown",
      "metadata": {
        "id": "2gMtL9jIEIqe",
        "colab_type": "text"
      },
      "source": [
        "The [MNIST Dataset](https://en.wikipedia.org/wiki/MNIST_database) is a dataset of handwritten digits, famously used for image recognition (telling which digit is written in the image) and other purposes in the ML/DL paradigm. It is still used as a baseline measure in several Machine Learning tasks (see [Generative Adversarial Networks](https://papers.nips.cc/paper/5423-generative-adversarial-nets.pdf); we'll look at this architecture near the end of the course). The images look something like this:\n",
        "\n",
        "<img src=\"data/mnist_dataset.png\" alt=\"The MNIST Dataset\" width=\"400\"/>"
      ]
    },
    {
      "cell_type": "code",
      "metadata": {
        "id": "0PDfvHKoEIqf",
        "colab_type": "code",
        "colab": {},
        "outputId": "f2418c4c-7501-4fbd-ef66-7491811b32fb"
      },
      "source": [
        "# Load data\n",
        "(x_train, y_train), (x_test, y_test) = mnist.load_data()\n",
        "x_train.shape, y_train.shape, x_test.shape, y_test.shape"
      ],
      "execution_count": 0,
      "outputs": [
        {
          "output_type": "stream",
          "text": [
            "Downloading data from https://s3.amazonaws.com/img-datasets/mnist.npz\n",
            "11493376/11490434 [==============================] - 15s 1us/step\n"
          ],
          "name": "stdout"
        },
        {
          "output_type": "execute_result",
          "data": {
            "text/plain": [
              "((60000, 28, 28), (60000,), (10000, 28, 28), (10000,))"
            ]
          },
          "metadata": {
            "tags": []
          },
          "execution_count": 2
        }
      ]
    },
    {
      "cell_type": "code",
      "metadata": {
        "id": "1t7So51gEIqk",
        "colab_type": "code",
        "colab": {},
        "outputId": "1a639461-02e1-4b58-d832-3be55d34fef2"
      },
      "source": [
        "# Sample image\n",
        "x_samp, y_samp = x_train[0], y_train[0]\n",
        "\n",
        "print (\"Shape of x_samp =\", x_samp.shape)\n",
        "plt.imshow(x_samp)\n",
        "plt.show()"
      ],
      "execution_count": 0,
      "outputs": [
        {
          "output_type": "stream",
          "text": [
            "Shape of x_samp = (28, 28)\n"
          ],
          "name": "stdout"
        },
        {
          "output_type": "display_data",
          "data": {
            "image/png": "[encoded data removed]",
            "text/plain": [
              "<Figure size 432x288 with 1 Axes>"
            ]
          },
          "metadata": {
            "tags": [],
            "needs_background": "light"
          }
        }
      ]
    },
    {
      "cell_type": "code",
      "metadata": {
        "id": "q3YLDyLBEIqn",
        "colab_type": "code",
        "colab": {}
      },
      "source": [
        "EPOCHS = 2\n",
        "NUM_CLASSES = 10 # (0, 1, 2, ..., 9)"
      ],
      "execution_count": 0,
      "outputs": []
    },
    {
      "cell_type": "markdown",
      "metadata": {
        "id": "glzH9hZgEIqq",
        "colab_type": "text"
      },
      "source": [
        "**Input Shapes**\n",
        "\n",
        "The first Conv2D layer needs a parameter ```input_shape``` which tells it what shape of image to take as input. A lot of people have difficulty in understanding how to shape the input tensor and what to write in the ```input_shape``` parameter.\n",
        "\n",
        "Images can be represented (formatted) in 2 ways:\n",
        "1. Channels First: The shape of the input image is $(n_c, n_h, n_w)$. So in this case, it'll be ```(1, 28, 28)```.\n",
        "2. Channels Last: The shape of the input image is $(n_h, n_w, n_c)$. So in this case it'll be ```(28, 28, 1)```.\n",
        "\n",
        "There is no good consensus on which way of image formatting is better and convolutions work well in both cases. Let's assume we're using Channels Last in this case. \n",
        "\n",
        "**Note:** Whether to use channels first or channels last is probably fixed for your laptop. You might want to check out this link: [Correct way to change image channel ordering](https://stackoverflow.com/questions/43829711/what-is-the-correct-way-to-change-image-channel-ordering-between-channels-first?rq=1).\n",
        "\n",
        "The ```input_shape``` parameter needs a 3-dimensional value. So even if your image is grayscale and has a 2D shape, as in this case (```(28, 28, 1)```), you need to give a 3D value. In this case it should be ```(28, 28, 1)```.\n",
        "\n",
        "As for the input tensor, ```x_train```, it needs to be a 4D tensor, with a shape like this: $(m, n_c, n_h, n_w)$, where $m$ is the number of samples. If you image is grayscale and has a 2D shape, your input tensor will be 3D (like ```(60000, 28, 28)```) In this case you need to reshape the input from ```(60000, 28, 28)``` to ```(60000, 28, 28, 1)```.\n",
        "\n",
        "Normalization helps with faster convergence.\n",
        "\n",
        "Finally, since the number of classes is > 1 (multi-class classification), we need to one-hot encode the labels. Also, the number of neurons in the last layer will be equal to the number of classes and the activation of the last layer will be softmax."
      ]
    },
    {
      "cell_type": "code",
      "metadata": {
        "id": "VX19rZJlEIqr",
        "colab_type": "code",
        "colab": {}
      },
      "source": [
        "x_train = x_train.reshape(x_train.shape[0], 28, 28, 1).astype('float32')\n",
        "x_test = x_test.reshape(x_test.shape[0], 28, 28, 1).astype('float32')\n",
        "\n",
        "# Normalization\n",
        "x_train /= 255.\n",
        "x_test /= 255.\n",
        "\n",
        "# One hot encoding\n",
        "y_train = np_utils.to_categorical(y_train)\n",
        "y_test = np_utils.to_categorical(y_test)"
      ],
      "execution_count": 0,
      "outputs": []
    },
    {
      "cell_type": "markdown",
      "metadata": {
        "id": "eY4zK_xwEIqt",
        "colab_type": "text"
      },
      "source": [
        "**General Architecture**\n",
        "\n",
        "The architecture of a CNN is simple. The first part comprises of a bunch of units, where each unit is a set of Convolutional layers followed by a Max Pooling layer. So that part may look like this:\n",
        "\n",
        "```CONV -> CONV -> MAXPOOL -> CONV -> CONV -> MAXPOOL```\n",
        "\n",
        "All through this part, the activations are 3D tensors. The next part involves unrolling the 3D tensor to a 1D tensor using a ```Flatten``` layer and then using ```Dense``` layers to propagate, with the last layer ending with a certain number of neurons, which depends on if it is a regression or classification problem (see the demo on MLPs). This can be something like this:\n",
        "\n",
        "```FLATTEN -> DENSE -> DENSE```\n",
        "\n",
        "So the CNN might look like this:\n",
        "\n",
        "```CONV -> CONV -> MAXPOOL -> CONV -> CONV -> MAXPOOL -> FLATTEN -> DENSE -> DENSE```\n",
        "\n",
        "For Conv layers, filter sizes of ```(3, 3)``` or ```(5, 5)``` and stride size of ```1``` usually work well. For Max Pooling layers, pool size of ```(2, 2)``` and strides of ```2``` typically works."
      ]
    },
    {
      "cell_type": "markdown",
      "metadata": {
        "id": "dumKDvrGEIqu",
        "colab_type": "text"
      },
      "source": [
        "### Sequential Model"
      ]
    },
    {
      "cell_type": "code",
      "metadata": {
        "id": "qj_cdn3zEIqv",
        "colab_type": "code",
        "colab": {}
      },
      "source": [
        "model = Sequential()\n",
        "\n",
        "model.add(Conv2D(32, (5, 5), input_shape=(28, 28, 1), activation='relu'))\n",
        "model.add(MaxPool2D(pool_size=(2, 2)))\n",
        "model.add(Dropout(0.2))\n",
        "model.add(Flatten())\n",
        "model.add(Dense(128, activation='relu'))\n",
        "model.add(Dense(NUM_CLASSES, activation='softmax'))\n",
        "\n",
        "model.compile(loss='categorical_crossentropy', optimizer='adam', metrics=['accuracy'])"
      ],
      "execution_count": 0,
      "outputs": []
    },
    {
      "cell_type": "code",
      "metadata": {
        "id": "08Nv0EwIEIqx",
        "colab_type": "code",
        "colab": {},
        "outputId": "ff94ce28-af83-4cdb-dca8-9a68a872bca9"
      },
      "source": [
        "model.fit(x_train, y_train, validation_data=(x_test, y_test), epochs=EPOCHS, batch_size=40)"
      ],
      "execution_count": 0,
      "outputs": [
        {
          "output_type": "stream",
          "text": [
            "Train on 60000 samples, validate on 10000 samples\n",
            "Epoch 1/2\n",
            "60000/60000 [==============================] - 55s 915us/step - loss: 0.1435 - acc: 0.9568 - val_loss: 0.0529 - val_acc: 0.9823\n",
            "Epoch 2/2\n",
            "60000/60000 [==============================] - 52s 864us/step - loss: 0.0512 - acc: 0.9844 - val_loss: 0.0351 - val_acc: 0.9883\n"
          ],
          "name": "stdout"
        },
        {
          "output_type": "execute_result",
          "data": {
            "text/plain": [
              "<keras.callbacks.History at 0x7f3dc4d5bb00>"
            ]
          },
          "metadata": {
            "tags": []
          },
          "execution_count": 7
        }
      ]
    },
    {
      "cell_type": "markdown",
      "metadata": {
        "id": "g0vueJoJEIq0",
        "colab_type": "text"
      },
      "source": [
        "**Summary**\n",
        "\n",
        "Let's look at the summary of the model."
      ]
    },
    {
      "cell_type": "code",
      "metadata": {
        "id": "hF7_wh3DEIq1",
        "colab_type": "code",
        "colab": {},
        "outputId": "0ad029fd-fc20-4d8e-8108-557cc2564f3d"
      },
      "source": [
        "model.summary()"
      ],
      "execution_count": 0,
      "outputs": [
        {
          "output_type": "stream",
          "text": [
            "_________________________________________________________________\n",
            "Layer (type)                 Output Shape              Param #   \n",
            "=================================================================\n",
            "conv2d_1 (Conv2D)            (None, 24, 24, 32)        832       \n",
            "_________________________________________________________________\n",
            "max_pooling2d_1 (MaxPooling2 (None, 12, 12, 32)        0         \n",
            "_________________________________________________________________\n",
            "dropout_1 (Dropout)          (None, 12, 12, 32)        0         \n",
            "_________________________________________________________________\n",
            "flatten_1 (Flatten)          (None, 4608)              0         \n",
            "_________________________________________________________________\n",
            "dense_1 (Dense)              (None, 128)               589952    \n",
            "_________________________________________________________________\n",
            "dense_2 (Dense)              (None, 10)                1290      \n",
            "=================================================================\n",
            "Total params: 592,074\n",
            "Trainable params: 592,074\n",
            "Non-trainable params: 0\n",
            "_________________________________________________________________\n"
          ],
          "name": "stdout"
        }
      ]
    },
    {
      "cell_type": "markdown",
      "metadata": {
        "id": "cta2FAUbEIq4",
        "colab_type": "text"
      },
      "source": [
        "### Functional Model"
      ]
    },
    {
      "cell_type": "code",
      "metadata": {
        "id": "n-NLg48DEIq5",
        "colab_type": "code",
        "colab": {}
      },
      "source": [
        "from keras.models import Model\n",
        "from keras.layers import Conv2D, Flatten, Dense, Dropout, Input, MaxPooling2D"
      ],
      "execution_count": 0,
      "outputs": []
    },
    {
      "cell_type": "code",
      "metadata": {
        "id": "xIAbNTpgEIq7",
        "colab_type": "code",
        "colab": {},
        "outputId": "95c9a0d8-a5e1-48ec-d846-f2a706e8af33"
      },
      "source": [
        "input_1 = Input(shape = (28,28,1))\n",
        "c1 = Conv2D(32,(5,5),strides = 1 ,padding=\"valid\", activation = \"relu\")(input_1)\n",
        "m1 = MaxPooling2D(pool_size=(2,2),strides = 2)(c1)\n",
        "dr = Dropout(0.2)(m1)\n",
        "fl = Flatten()(dr)\n",
        "d1 = Dense(128,activation=\"relu\")(fl)\n",
        "out = Dense(10,activation=\"sigmoid\")(d1)\n",
        "model = Model(inputs = input_1, outputs = out)\n",
        "model.summary()"
      ],
      "execution_count": 0,
      "outputs": [
        {
          "output_type": "stream",
          "text": [
            "_________________________________________________________________\n",
            "Layer (type)                 Output Shape              Param #   \n",
            "=================================================================\n",
            "input_3 (InputLayer)         (None, 28, 28, 1)         0         \n",
            "_________________________________________________________________\n",
            "conv2d_4 (Conv2D)            (None, 24, 24, 32)        832       \n",
            "_________________________________________________________________\n",
            "max_pooling2d_3 (MaxPooling2 (None, 12, 12, 32)        0         \n",
            "_________________________________________________________________\n",
            "dropout_3 (Dropout)          (None, 12, 12, 32)        0         \n",
            "_________________________________________________________________\n",
            "flatten_3 (Flatten)          (None, 4608)              0         \n",
            "_________________________________________________________________\n",
            "dense_5 (Dense)              (None, 128)               589952    \n",
            "_________________________________________________________________\n",
            "dense_6 (Dense)              (None, 10)                1290      \n",
            "=================================================================\n",
            "Total params: 592,074\n",
            "Trainable params: 592,074\n",
            "Non-trainable params: 0\n",
            "_________________________________________________________________\n"
          ],
          "name": "stdout"
        }
      ]
    },
    {
      "cell_type": "code",
      "metadata": {
        "id": "ipCQow2hEIq-",
        "colab_type": "code",
        "colab": {},
        "outputId": "892719a6-0bdf-4dbe-af98-7c9d806f55b3"
      },
      "source": [
        "model.compile(loss='categorical_crossentropy', optimizer='adam', metrics=['accuracy'])\n",
        "model.fit(x_train, y_train, validation_data=(x_test, y_test), epochs=EPOCHS, batch_size=40)"
      ],
      "execution_count": 0,
      "outputs": [
        {
          "output_type": "stream",
          "text": [
            "Train on 60000 samples, validate on 10000 samples\n",
            "Epoch 1/2\n",
            "60000/60000 [==============================] - 56s 934us/step - loss: 0.1780 - acc: 0.9478 - val_loss: 0.0990 - val_acc: 0.9669\n",
            "Epoch 2/2\n",
            "60000/60000 [==============================] - 49s 812us/step - loss: 0.0628 - acc: 0.9810 - val_loss: 0.0512 - val_acc: 0.9824\n"
          ],
          "name": "stdout"
        },
        {
          "output_type": "execute_result",
          "data": {
            "text/plain": [
              "<keras.callbacks.History at 0x7f3dc522f080>"
            ]
          },
          "metadata": {
            "tags": []
          },
          "execution_count": 18
        }
      ]
    },
    {
      "cell_type": "markdown",
      "metadata": {
        "id": "hEJWPhKLEIrA",
        "colab_type": "text"
      },
      "source": [
        "**References**\n",
        "\n",
        "Some better ConvNet architectures\n",
        "1. [ResNets](https://towardsdatascience.com/an-overview-of-resnet-and-its-variants-5281e2f56035)\n",
        "2. [Inception Nets](https://towardsdatascience.com/a-simple-guide-to-the-versions-of-the-inception-network-7fc52b863202)"
      ]
    }
  ]
}